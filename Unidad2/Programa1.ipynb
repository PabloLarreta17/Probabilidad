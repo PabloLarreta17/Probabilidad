{
  "nbformat": 4,
  "nbformat_minor": 0,
  "metadata": {
    "colab": {
      "provenance": [],
      "authorship_tag": "ABX9TyOdyRpj0LDPSwL6gjSWZ3DT",
      "include_colab_link": true
    },
    "kernelspec": {
      "name": "python3",
      "display_name": "Python 3"
    },
    "language_info": {
      "name": "python"
    }
  },
  "cells": [
    {
      "cell_type": "markdown",
      "metadata": {
        "id": "view-in-github",
        "colab_type": "text"
      },
      "source": [
        "<a href=\"https://colab.research.google.com/github/PabloLarreta17/Probabilidad/blob/main/Unidad2/Programa1.ipynb\" target=\"_parent\"><img src=\"https://colab.research.google.com/assets/colab-badge.svg\" alt=\"Open In Colab\"/></a>"
      ]
    },
    {
      "cell_type": "markdown",
      "source": [
        "# **Programación Orientada a Objetos**\n",
        "## **Unidad 2. Programa 1**\n",
        "### **Maestro: Jose Gabriel Rodriguez Rivas**\n",
        "### **Alumno: Pablo Larreta Mijares**"
      ],
      "metadata": {
        "id": "vl_fnmDOqLb-"
      }
    },
    {
      "cell_type": "code",
      "source": [
        "class Libro:\n",
        "  def __init__(self, isbn, titulo, autor, categoria, precio):\n",
        "    self.isbn = isbn\n",
        "    self.titulo = titulo\n",
        "    self.autor = autor\n",
        "    self.categoria = categoria\n",
        "    self.precio = precio\n",
        "    self.prestado = False\n",
        "\n",
        "  def mostrar_info(self):\n",
        "    estado = \"Prestado\" if self.prestado else \"Disponible\"\n",
        "    print(f\"[{self.isbn}] {self.titulo} - {self.autor} | ({self.categoria}) | ${self.precio} | {estado}\")\n",
        "\n",
        "class Estudiante:\n",
        "  def __init__(self, num_control, nombre, carrera, fecha_nacimiento, telefono, correo):\n",
        "    self.num_control = num_control\n",
        "    self.nombre = nombre\n",
        "    self.carrera = carrera\n",
        "    self.fecha_nacimiento = fecha_nacimiento\n",
        "    self.telefono = telefono\n",
        "    self.correo = correo\n",
        "\n",
        "  def mostrar_info(self):\n",
        "    print(f\"[{self.num_control}] {self.nombre} - {self.carrera} | Nac: {self.fecha_nacimiento} | Tel: {self.telefono} | Correo: {self.correo}\")\n",
        "\n",
        "class Prestamo:\n",
        "  contador_prestamos = 1\n",
        "\n",
        "  def __init__(self, num_control, isbn, fecha_inicio, fecha_termino):\n",
        "    self.folio = Prestamo.contador_prestamos\n",
        "    Prestamo.contador_prestamos += 1\n",
        "    self.num_control = num_control\n",
        "    self.isbn = isbn\n",
        "    self.fecha_inicio = fecha_inicio\n",
        "    self.fecha_termino = fecha_termino\n",
        "\n",
        "  def mostrar_info(self):\n",
        "    print(f\"Folio: {self.folio} | Estudiante: {self.num_control} | Libro: {self.isbn} | Del {self.fecha_inicio} al {self.fecha_termino}\")\n",
        "\n",
        "class Venta:\n",
        "  contador_ventas = 1\n",
        "\n",
        "  def __init__(self, isbn, num_control, fecha, cantidad, importe):\n",
        "    self.folio_venta = Venta.contador_ventas\n",
        "    Venta.contador_ventas += 1\n",
        "    self.isbn = isbn\n",
        "    self.num_control = num_control\n",
        "    self.fecha = fecha\n",
        "    self.cantidad = cantidad\n",
        "    self.importe = importe\n",
        "\n",
        "  def mostrar_info(self):\n",
        "    print(f\"Folio: {self.folio_venta} | ISBN: {self.isbn} | Comprador: {self.num_control} | Fecha: {self.fecha} | Cantidad: {self.cantidad} | Importe: ${self.importe}\")\n",
        "\n",
        "def mostrar_menu():\n",
        "  print(\"\\n--- SISTEMA DE LIBRERIA ESCOLAR ---\")\n",
        "  print(\"1. Dar de alta libro\")\n",
        "  print(\"2. Dar de alta estudiante\")\n",
        "  print(\"3. Consultar libro por ISBN\")\n",
        "  print(\"4. Consultar estudiante por numero de control\")\n",
        "  print(\"5. Mostrar todos los libros\")\n",
        "  print(\"6. Mostrar todos los estudiantes\")\n",
        "  print(\"7. Realizar prestamo\")\n",
        "  print(\"8. Salir del sistema\")\n",
        "  print(\"9. Mostrar lista de prestamos\")\n",
        "  print(\"10. Devolver libro\")\n",
        "  print(\"11. Mostrar historial de ventas\")\n",
        "  print(\"12. Registrar venta\")\n",
        "\n",
        "\n",
        "def alta_libro():\n",
        "  print(\"\\n--- Alta de Libro ---\")\n",
        "  isbn = input(\"ISBN: \")\n",
        "  # Assuming 'libros' is a list defined elsewhere\n",
        "  # for libro in libros:\n",
        "  #   if libro.isbn == isbn:\n",
        "  #     print(\"Ya existe un libro con ese ISBN!\")\n",
        "  #     return\n",
        "  titulo = input(\"Titulo: \")\n",
        "  autor = input(\"Autor: \")\n",
        "  categoria = input(\"Categoria: \")\n",
        "  try:\n",
        "    precio = float(input(\"Precio: \"))\n",
        "  except ValueError:\n",
        "    print(\"Precio invalido.\")\n",
        "    return\n",
        "\n",
        "  # Assuming 'libros' is a list defined elsewhere\n",
        "  # nuevo_libro = Libro(isbn, titulo, autor, categoria, precio)\n",
        "  # libros.append(nuevo_libro)\n",
        "  print(\"Libro registrado exitosamente.\")"
      ],
      "metadata": {
        "id": "qAIWWZhDoSv7"
      },
      "execution_count": 6,
      "outputs": []
    }
  ]
}