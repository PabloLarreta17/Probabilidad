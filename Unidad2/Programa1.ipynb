{
  "nbformat": 4,
  "nbformat_minor": 0,
  "metadata": {
    "colab": {
      "provenance": [],
      "authorship_tag": "ABX9TyMUIBF825h0m9ochYXHfTkX",
      "include_colab_link": true
    },
    "kernelspec": {
      "name": "python3",
      "display_name": "Python 3"
    },
    "language_info": {
      "name": "python"
    }
  },
  "cells": [
    {
      "cell_type": "markdown",
      "metadata": {
        "id": "view-in-github",
        "colab_type": "text"
      },
      "source": [
        "<a href=\"https://colab.research.google.com/github/PabloLarreta17/Probabilidad/blob/main/Unidad2/Programa1.ipynb\" target=\"_parent\"><img src=\"https://colab.research.google.com/assets/colab-badge.svg\" alt=\"Open In Colab\"/></a>"
      ]
    },
    {
      "cell_type": "code",
      "execution_count": 8,
      "metadata": {
        "id": "r2im6TTc3RaK"
      },
      "outputs": [],
      "source": [
        "class Libro:\n",
        "   def __init__(self,isbn,titulo,autor,categoria,precio):\n",
        "     self.isbn =isbn\n",
        "     self.titulo = titulo\n",
        "     self.autor = autor\n",
        "     self.categoria = categoria\n",
        "     self.precio = precio\n",
        "   def mostrar_info(self):\n",
        "      estado =\"Prestado\" if self.prestado else \"Disponible\"\n",
        "      print(f\"[{self.isbn}] {self.titulo} -{self.autor}|{self.categoria}|$(self.precio)|{estado}\")"
      ]
    },
    {
      "cell_type": "code",
      "source": [
        "class Estudiante:\n",
        "  def __init__(self,num_control, nombre, carrera, fecha_nacimiento, telefono, correo):\n",
        "    self.num_control = num_control\n",
        "    self.nombre = nombre\n",
        "    self.carrera = carrera\n",
        "    self.fecha_nacimiento = fecha_nacimiento\n",
        "    self.telefono = telefono\n",
        "    self.correo = correo\n",
        "  def mostrar_info(self):\n",
        "    print(f\"[{self.num_control}]{self.nombre}-{self.carrera}|Nac:{self.fecha_nacimiento}|Tel:{self.telefono}|Correo{self.correo}\")\n"
      ],
      "metadata": {
        "id": "mlYug6px68tl"
      },
      "execution_count": 9,
      "outputs": []
    }
  ]
}