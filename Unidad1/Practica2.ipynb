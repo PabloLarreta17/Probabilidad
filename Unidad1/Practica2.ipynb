{
  "nbformat": 4,
  "nbformat_minor": 0,
  "metadata": {
    "colab": {
      "provenance": [],
      "authorship_tag": "ABX9TyMm+7Gogtr82F6Y4QatdPed",
      "include_colab_link": true
    },
    "kernelspec": {
      "name": "python3",
      "display_name": "Python 3"
    },
    "language_info": {
      "name": "python"
    }
  },
  "cells": [
    {
      "cell_type": "markdown",
      "metadata": {
        "id": "view-in-github",
        "colab_type": "text"
      },
      "source": [
        "<a href=\"https://colab.research.google.com/github/PabloLarreta17/Probabilidad/blob/main/Unidad1/Practica2.ipynb\" target=\"_parent\"><img src=\"https://colab.research.google.com/assets/colab-badge.svg\" alt=\"Open In Colab\"/></a>"
      ]
    },
    {
      "cell_type": "markdown",
      "source": [
        "Pobabilidad y Estadistica"
      ],
      "metadata": {
        "id": "Jovbhb3UMyei"
      }
    },
    {
      "cell_type": "code",
      "execution_count": 1,
      "metadata": {
        "id": "uvdMHJ1eMxpq"
      },
      "outputs": [],
      "source": [
        "import random\n",
        "import matplotlib.pyplot as plt\n",
        "from statistics import *"
      ]
    },
    {
      "cell_type": "code",
      "source": [
        "fabrica1 =[]\n",
        "for i in range(100):\n",
        "  numero_aleatorio =round(random.uniform(50,100),2)\n",
        "  fabrica1.append(numero_aleatorio)\n",
        "print(fabrica1)"
      ],
      "metadata": {
        "colab": {
          "base_uri": "https://localhost:8080/"
        },
        "id": "a7pRWNP_NYF9",
        "outputId": "0386e4c2-f8df-49f0-86fd-e279d2aad44a"
      },
      "execution_count": 3,
      "outputs": [
        {
          "output_type": "stream",
          "name": "stdout",
          "text": [
            "[87.69, 97.17, 69.57, 63.71, 80.01, 82.2, 59.04, 60.34, 91.64, 78.77, 51.77, 83.92, 83.14, 70.62, 91.08, 76.45, 73.64, 79.03, 93.96, 63.02, 97.98, 86.12, 84.37, 89.28, 73.53, 57.73, 78.85, 54.01, 63.11, 53.82, 93.56, 55.04, 98.23, 68.15, 50.22, 89.93, 60.36, 72.63, 93.25, 96.36, 92.51, 72.71, 68.0, 79.6, 97.51, 65.9, 83.09, 74.06, 81.91, 94.14, 75.69, 77.73, 59.15, 68.3, 50.78, 82.22, 83.74, 57.01, 58.07, 84.07, 93.57, 94.63, 70.38, 86.31, 80.31, 94.58, 88.73, 94.2, 69.55, 56.11, 85.56, 51.65, 95.35, 97.88, 57.37, 87.11, 69.41, 61.53, 83.18, 55.24, 82.88, 70.5, 65.97, 73.22, 85.8, 89.07, 71.7, 68.5, 84.29, 66.03, 72.37, 92.31, 88.23, 62.76, 88.86, 92.46, 98.64, 97.15, 64.77, 95.76]\n"
          ]
        }
      ]
    },
    {
      "cell_type": "code",
      "source": [
        "fabrica2 =[]\n",
        "for i in range(100):\n",
        "  numero_aleatorio2 =round(random.uniform(50,100),2)\n",
        "  fabrica2.append(numero_aleatorio2)\n",
        "print(fabrica2)"
      ],
      "metadata": {
        "colab": {
          "base_uri": "https://localhost:8080/"
        },
        "id": "iTiGA5imN2KT",
        "outputId": "76d30d0c-0573-47ce-c963-b2dc5ec2dbe5"
      },
      "execution_count": 10,
      "outputs": [
        {
          "output_type": "stream",
          "name": "stdout",
          "text": [
            "[94.5, 83.69, 62.12, 73.25, 91.27, 56.48, 95.92, 76.94, 68.92, 94.42, 96.0, 98.36, 62.7, 58.62, 97.22, 50.13, 69.48, 63.65, 81.49, 55.18, 86.74, 60.2, 90.44, 92.03, 84.47, 77.66, 98.27, 66.99, 65.27, 82.84, 77.81, 68.21, 69.83, 98.91, 59.72, 60.18, 57.7, 54.85, 84.9, 54.79, 72.39, 97.96, 97.6, 63.56, 52.06, 84.12, 53.13, 62.03, 71.82, 77.33, 78.37, 84.74, 97.83, 76.16, 55.38, 84.42, 73.72, 91.98, 79.08, 56.62, 66.3, 55.6, 94.08, 73.55, 77.55, 93.22, 94.33, 89.58, 86.6, 99.98, 77.91, 91.82, 92.62, 78.06, 85.25, 77.25, 68.43, 70.85, 71.2, 65.13, 88.36, 70.73, 71.06, 88.48, 98.0, 95.22, 68.12, 82.03, 79.79, 55.69, 52.26, 91.34, 59.47, 67.01, 64.61, 61.43, 79.12, 88.99, 59.05, 89.89]\n"
          ]
        }
      ]
    },
    {
      "cell_type": "code",
      "source": [
        "maximo1 =max(fabrica1)\n",
        "minimo1 =min(fabrica1)\n",
        "rango1 =maximo1-minimo1\n",
        "media1 =mean(fabrica1)\n",
        "mediana1 =median(fabrica1)\n",
        "moda1 =mode(fabrica1)\n",
        "\n",
        "print(\"Estadistica descriptiva de la fabrica 1\", \"Media =\", media1,\"/n Mediana\", mediana1,\"/n Moda\", moda1,\"/n Maximo\", maximo1, \"/n Minimo\", minimo1,\"/n Rango\", rango1)\n"
      ],
      "metadata": {
        "colab": {
          "base_uri": "https://localhost:8080/"
        },
        "id": "Y8C9LwzKPAnK",
        "outputId": "4dcbffc0-0d05-4bfd-8726-6bf4b968a3ba"
      },
      "execution_count": 17,
      "outputs": [
        {
          "output_type": "stream",
          "name": "stdout",
          "text": [
            "Estadistica descriptiva de la fabrica 1 Media = 77.4341 /n Mediana 79.315 /n Moda 87.69 /n Maximo 98.64 /n Minimo 50.22 /n Rango 48.42\n"
          ]
        }
      ]
    },
    {
      "cell_type": "code",
      "source": [
        "maximo1 =max(fabrica2)\n",
        "minimo1 =min(fabrica2)\n",
        "rango1 =maximo1-minimo1\n",
        "media =mean(fabrica2)\n",
        "medianal =median(fabrica2)\n",
        "modal =mode (fabrica2)\n",
        "\n",
        "print(\"Estadistica descriptiva de la fabrica 2\", \"Media =\""
      ],
      "metadata": {
        "id": "uehcPiieQl6S"
      },
      "execution_count": null,
      "outputs": []
    }
  ]
}