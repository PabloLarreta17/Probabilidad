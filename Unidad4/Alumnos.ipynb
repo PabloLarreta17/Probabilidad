{
  "nbformat": 4,
  "nbformat_minor": 0,
  "metadata": {
    "colab": {
      "provenance": [],
      "authorship_tag": "ABX9TyNoSDCXkB9SCT88+jfi7rue",
      "include_colab_link": true
    },
    "kernelspec": {
      "name": "python3",
      "display_name": "Python 3"
    },
    "language_info": {
      "name": "python"
    }
  },
  "cells": [
    {
      "cell_type": "markdown",
      "metadata": {
        "id": "view-in-github",
        "colab_type": "text"
      },
      "source": [
        "<a href=\"https://colab.research.google.com/github/PabloLarreta17/Probabilidad/blob/main/Unidad4/Alumnos.ipynb\" target=\"_parent\"><img src=\"https://colab.research.google.com/assets/colab-badge.svg\" alt=\"Open In Colab\"/></a>"
      ]
    },
    {
      "cell_type": "code",
      "execution_count": 1,
      "metadata": {
        "id": "_DN36Qb6lqaB"
      },
      "outputs": [],
      "source": [
        "import scipy.stats as stats"
      ]
    },
    {
      "cell_type": "code",
      "source": [
        "# Generar datos para la distribucion normal\n",
        "\n",
        "media = 70 # Media\n",
        "desv_std = 4 # Desviavion estandar\n",
        "num_datos = 500"
      ],
      "metadata": {
        "id": "EZYHJS_ql0ka"
      },
      "execution_count": 2,
      "outputs": []
    },
    {
      "cell_type": "code",
      "source": [
        "##La probabilidad de estudiantes que pesan más de 68 y menos de 72 kg.\n",
        "prob_68 = stats.norm.cdf(68, media, desv_std)\n",
        "prob_72 = stats.norm.cdf(72, media, desv_std)\n",
        "\n",
        "probabilidad = prob_72 - prob_68"
      ],
      "metadata": {
        "id": "pPZMEtZql5KZ"
      },
      "execution_count": 3,
      "outputs": []
    },
    {
      "cell_type": "code",
      "source": [
        "##Cuantos estudiantes pesan más de 68 y menos de 72 kg\n",
        "estudiantes = probabilidad * num_datos\n",
        "\n",
        "# Mostrar resultados\n",
        "print(f\"Probabilidad de que un estudiante pese entre 68 y 72 kg: {probabilidad:.3f}\")\n",
        "print(f\"Número de estudiantes que pesan entre 68 y 72 kg: {estudiantes:.2f}\")"
      ],
      "metadata": {
        "colab": {
          "base_uri": "https://localhost:8080/"
        },
        "id": "ggft9zvOl8dx",
        "outputId": "b68d1eb2-3672-4e63-d62f-de9d0485ab06"
      },
      "execution_count": 4,
      "outputs": [
        {
          "output_type": "stream",
          "name": "stdout",
          "text": [
            "Probabilidad de que un estudiante pese entre 68 y 72 kg: 0.383\n",
            "Número de estudiantes que pesan entre 68 y 72 kg: 191.46\n"
          ]
        }
      ]
    }
  ]
}