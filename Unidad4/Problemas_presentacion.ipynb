{
  "nbformat": 4,
  "nbformat_minor": 0,
  "metadata": {
    "colab": {
      "provenance": [],
      "authorship_tag": "ABX9TyMbhWhfjT1rdv7jwMPZm39J",
      "include_colab_link": true
    },
    "kernelspec": {
      "name": "python3",
      "display_name": "Python 3"
    },
    "language_info": {
      "name": "python"
    }
  },
  "cells": [
    {
      "cell_type": "markdown",
      "metadata": {
        "id": "view-in-github",
        "colab_type": "text"
      },
      "source": [
        "<a href=\"https://colab.research.google.com/github/PabloLarreta17/Probabilidad/blob/main/Unidad4/Problemas_presentacion.ipynb\" target=\"_parent\"><img src=\"https://colab.research.google.com/assets/colab-badge.svg\" alt=\"Open In Colab\"/></a>"
      ]
    },
    {
      "cell_type": "markdown",
      "source": [
        "Pablo Larreta Mijares\n",
        "Instituto Tecnologico de Durango\n",
        "4 Unidad"
      ],
      "metadata": {
        "id": "F07FGPomlOC7"
      }
    },
    {
      "cell_type": "markdown",
      "source": [
        "Problema 1\n",
        "\n",
        "Tipo de distribución: Poisson porque se trata del número de eventos de personas ingresadas, que ocurren en un intervalo de tiempo que es un día, con una tasa promedio conocida λ = 5.\n",
        "\n",
        "Formula P(X = x) = \\frac{e^{-λ} λ^x}{x!}\n",
        "\n",
        "Datos λ = 5 a) x = 2 b) x > 10"
      ],
      "metadata": {
        "id": "Tk9nUsqskqcO"
      }
    },
    {
      "cell_type": "code",
      "execution_count": 1,
      "metadata": {
        "id": "mvTpvvrfkJDe"
      },
      "outputs": [],
      "source": [
        "# PROBLEMA 1 - Distribución de Poisson\n",
        "from math import exp, factorial\n",
        "from scipy.stats import poisson"
      ]
    },
    {
      "cell_type": "code",
      "source": [
        "# Parámetros\n",
        "lamb = 5  # Media de Poisson"
      ],
      "metadata": {
        "id": "0woSM_G8kyp8"
      },
      "execution_count": 2,
      "outputs": []
    },
    {
      "cell_type": "code",
      "source": [
        "# a) Probabilidad de que X = 2\n",
        "x1 = 2\n",
        "p_x2 = poisson.pmf(x1, lamb)\n",
        "print(\"Problema 1:\")\n",
        "print(f\"a) P(X = 2) = {p_x2:.5f}\")"
      ],
      "metadata": {
        "colab": {
          "base_uri": "https://localhost:8080/"
        },
        "id": "PbziFRGjk3om",
        "outputId": "999d44de-fdd0-4d37-8a1e-eb04c4ec895d"
      },
      "execution_count": 3,
      "outputs": [
        {
          "output_type": "stream",
          "name": "stdout",
          "text": [
            "Problema 1:\n",
            "a) P(X = 2) = 0.08422\n"
          ]
        }
      ]
    },
    {
      "cell_type": "code",
      "source": [
        "# b) Probabilidad de que X > 10\n",
        "p_mayor10 = 1 - poisson.cdf(10, lamb)\n",
        "print(f\"b) P(X > 10) = {p_mayor10:.5f}\")\n",
        "\n",
        "if p_mayor10 < 0.05:\n",
        "    print(\" No es muy probable que exceda de 10.\")\n",
        "else:\n",
        "    print(\" Es probable que exceda de 10.\")"
      ],
      "metadata": {
        "colab": {
          "base_uri": "https://localhost:8080/"
        },
        "id": "7oixuKaYk6ik",
        "outputId": "ffbf59a1-085a-4ec2-b181-b7410d3acdab"
      },
      "execution_count": 4,
      "outputs": [
        {
          "output_type": "stream",
          "name": "stdout",
          "text": [
            "b) P(X > 10) = 0.01370\n",
            " No es muy probable que exceda de 10.\n"
          ]
        }
      ]
    },
    {
      "cell_type": "markdown",
      "source": [
        "Problema 2 Tipo de distribución:Binomial Porque se tienen un número fijo de ensayos n = 1000 motores, dos posibles resultados que son defectuoso o no y probabilidad constante de defecto p = 0.001.\n",
        "\n",
        "Formula P(X = x) = \\binom{n}{x} p^x (1-p)^{n-x}\n",
        "\n",
        "Datos n = 1000 p = 0.001 x = 0, 3, 4"
      ],
      "metadata": {
        "id": "z8xztulok9NE"
      }
    },
    {
      "cell_type": "code",
      "source": [
        "# PROBLEMA 2 - Distribución Binomial\n",
        "from scipy.stats import binom\n",
        "# Parámetros\n",
        "n = 1000\n",
        "p = 0.001\n"
      ],
      "metadata": {
        "id": "93mqgTw6k7z8"
      },
      "execution_count": 5,
      "outputs": []
    },
    {
      "cell_type": "code",
      "source": [
        "#a) Ninguno defectuoso (x = 0)\n",
        "p0 = binom.pmf(0, n, p)\n",
        "\n",
        "#b) Tres defectuosos (x = 3)\n",
        "p3 = binom.pmf(3, n, p)\n",
        "\n",
        "#c) Cuatro defectuosos (x = 4)\n",
        "p4 = binom.pmf(4, n, p)"
      ],
      "metadata": {
        "id": "evL44kSolF6s"
      },
      "execution_count": 6,
      "outputs": []
    },
    {
      "cell_type": "code",
      "source": [
        "print(\"\\nPROBLEMA 2:\")\n",
        "print(f\"a) P(X = 0) = {p0:.6f}\")\n",
        "print(f\"b) P(X = 3) = {p3:.6f}\")\n",
        "print(f\"c) P(X = 4) = {p4:.6f}\")"
      ],
      "metadata": {
        "colab": {
          "base_uri": "https://localhost:8080/"
        },
        "id": "XPLmSYN_lJQE",
        "outputId": "8c6fa354-06a8-4b95-d797-4c104d2f163d"
      },
      "execution_count": 7,
      "outputs": [
        {
          "output_type": "stream",
          "name": "stdout",
          "text": [
            "\n",
            "PROBLEMA 2:\n",
            "a) P(X = 0) = 0.367695\n",
            "b) P(X = 3) = 0.061283\n",
            "c) P(X = 4) = 0.015290\n"
          ]
        }
      ]
    },
    {
      "cell_type": "code",
      "source": [
        "# Interpretación simple\n",
        "print(\"\\nInterpretación:\")\n",
        "print(\"Es muy probable que ninguno sea defectuoso.\")\n",
        "print(\"Las probabilidades de que 3 o 4 sean defectuosos son pequeñas.\")"
      ],
      "metadata": {
        "colab": {
          "base_uri": "https://localhost:8080/"
        },
        "id": "ItO2fVFDlMXz",
        "outputId": "e8657071-dbb6-4614-cc17-e739ad76fb36"
      },
      "execution_count": 8,
      "outputs": [
        {
          "output_type": "stream",
          "name": "stdout",
          "text": [
            "\n",
            "Interpretación:\n",
            "Es muy probable que ninguno sea defectuoso.\n",
            "Las probabilidades de que 3 o 4 sean defectuosos son pequeñas.\n"
          ]
        }
      ]
    }
  ]
}