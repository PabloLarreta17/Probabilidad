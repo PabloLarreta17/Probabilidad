{
  "nbformat": 4,
  "nbformat_minor": 0,
  "metadata": {
    "colab": {
      "provenance": [],
      "authorship_tag": "ABX9TyPe5b6Jr7Q6hF6cofR5nNE4",
      "include_colab_link": true
    },
    "kernelspec": {
      "name": "python3",
      "display_name": "Python 3"
    },
    "language_info": {
      "name": "python"
    }
  },
  "cells": [
    {
      "cell_type": "markdown",
      "metadata": {
        "id": "view-in-github",
        "colab_type": "text"
      },
      "source": [
        "<a href=\"https://colab.research.google.com/github/PabloLarreta17/Probabilidad/blob/main/Unidad4/Distribuci%C3%B3n_binomial.ipynb\" target=\"_parent\"><img src=\"https://colab.research.google.com/assets/colab-badge.svg\" alt=\"Open In Colab\"/></a>"
      ]
    },
    {
      "cell_type": "code",
      "source": [
        "from scipy. stats import binom\n",
        "#Pardmetros de la distribución binomial\n",
        "probabilidad_exito = 0.83\n",
        "num_pacientes = 16\n",
        "X = 16 #Numero de exitos\n",
        "#Calcular la probabilidad de que ningún paciente sufra lo enfermedad\n",
        "probabilidad_ninguno_enfermo = binom. pmf(X, num_pacientes, probabilidad_exito)\n",
        "print (\"La probabllidad de que ningún paciente sufra la enfermedad es:\", probabilidad_ninguno_enfermo)"
      ],
      "metadata": {
        "colab": {
          "base_uri": "https://localhost:8080/"
        },
        "id": "XIfyJZbPWORT",
        "outputId": "e101e84d-5377-4d64-9f35-0a5c55bb2c82"
      },
      "execution_count": 7,
      "outputs": [
        {
          "output_type": "stream",
          "name": "stdout",
          "text": [
            "La probabllidad de que ningún paciente sufra la enfermedad es: 0.0507282029895386\n"
          ]
        }
      ]
    }
  ]
}