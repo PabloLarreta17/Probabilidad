{
  "nbformat": 4,
  "nbformat_minor": 0,
  "metadata": {
    "colab": {
      "provenance": [],
      "authorship_tag": "ABX9TyMDN/f4MLbJ2+EADBe03Mj9",
      "include_colab_link": true
    },
    "kernelspec": {
      "name": "python3",
      "display_name": "Python 3"
    },
    "language_info": {
      "name": "python"
    }
  },
  "cells": [
    {
      "cell_type": "markdown",
      "metadata": {
        "id": "view-in-github",
        "colab_type": "text"
      },
      "source": [
        "<a href=\"https://colab.research.google.com/github/PabloLarreta17/Probabilidad/blob/main/Unidad3/Ejercicios_valor.ipynb\" target=\"_parent\"><img src=\"https://colab.research.google.com/assets/colab-badge.svg\" alt=\"Open In Colab\"/></a>"
      ]
    },
    {
      "cell_type": "markdown",
      "source": [
        "# **Probabilidad** y **Estadistica**\n",
        "\n",
        "##Grupo: 2Y\n",
        "\n",
        "##**Unidad 3**\n",
        "\n",
        "##Docente: Jose Gabriel Rodriguez Rivas\n",
        "\n",
        "##Alumno: Pablo Larreta Mijares\n",
        "\n",
        "**Practica 2: Ejercicios de valor esperado**"
      ],
      "metadata": {
        "id": "BlE1LqI_pWGw"
      }
    },
    {
      "cell_type": "code",
      "execution_count": 1,
      "metadata": {
        "id": "9yqIg3BJpTo1"
      },
      "outputs": [],
      "source": [
        "x = [5,6,7,8,9,10] #Valores posibles de la variable aleatoria\n",
        "p = [0.05,0.10,0.20,0.30,0.25,0.10] #Probabilidades correspondientes"
      ]
    },
    {
      "cell_type": "code",
      "source": [
        "#Inicializar una variable para acumular la suma\n",
        "valor_esperado =0"
      ],
      "metadata": {
        "id": "6DHa4XrbqPmw"
      },
      "execution_count": 2,
      "outputs": []
    },
    {
      "cell_type": "code",
      "source": [
        "#Recorrer los valores y sus probabilidades\n",
        "for i in range(len(x)):\n",
        "  xi = x[i] #valor de la variable aleatoria\n",
        "  pi = p[i] #Probabilidad de ese valor\n",
        "  producto = xi * pi   #Multiplicar valor de su probabilidad\n",
        "  valor_esperado +=producto  #sumar valor por su probabilidad\n",
        "  #Mostrar cada paso\n",
        "  print(f\"x ={xi},p ={pi},x*p={producto:.2f}\")\n",
        "  #Mostrar resultado final\n",
        "  print(f\"\\nValor esperado (Esperanza): {valor_esperado:.2f}\")"
      ],
      "metadata": {
        "colab": {
          "base_uri": "https://localhost:8080/"
        },
        "id": "VPsTAxSiqXu1",
        "outputId": "0eb872ea-a214-45cc-95e1-16d5a5bfd38c"
      },
      "execution_count": 5,
      "outputs": [
        {
          "output_type": "stream",
          "name": "stdout",
          "text": [
            "x =5,p =0.05,x*p=0.25\n",
            "\n",
            "Valor esperado (Esperanza): 8.15\n",
            "x =6,p =0.1,x*p=0.60\n",
            "\n",
            "Valor esperado (Esperanza): 8.75\n",
            "x =7,p =0.2,x*p=1.40\n",
            "\n",
            "Valor esperado (Esperanza): 10.15\n",
            "x =8,p =0.3,x*p=2.40\n",
            "\n",
            "Valor esperado (Esperanza): 12.55\n",
            "x =9,p =0.25,x*p=2.25\n",
            "\n",
            "Valor esperado (Esperanza): 14.80\n",
            "x =10,p =0.1,x*p=1.00\n",
            "\n",
            "Valor esperado (Esperanza): 15.80\n"
          ]
        }
      ]
    }
  ]
}